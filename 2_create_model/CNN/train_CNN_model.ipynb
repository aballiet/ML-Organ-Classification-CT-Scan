{
  "nbformat": 4,
  "nbformat_minor": 0,
  "metadata": {
    "colab": {
      "name": "CNN_model_train.ipynb",
      "provenance": [],
      "collapsed_sections": [],
      "include_colab_link": true
    },
    "kernelspec": {
      "name": "python3",
      "display_name": "Python 3"
    }
  },
  "cells": [
    {
      "cell_type": "markdown",
      "metadata": {
        "id": "view-in-github",
        "colab_type": "text"
      },
      "source": [
        "<a href=\"https://colab.research.google.com/github/aballiet/ML-Organ-Detection-CT-Scan/blob/master/2_create_model/CNN/train_CNN_model.ipynb\" target=\"_parent\"><img src=\"https://colab.research.google.com/assets/colab-badge.svg\" alt=\"Open In Colab\"/></a>"
      ]
    },
    {
      "cell_type": "markdown",
      "metadata": {
        "id": "vQhT2AtHZdIM",
        "colab_type": "text"
      },
      "source": [
        "# Preparation"
      ]
    },
    {
      "cell_type": "markdown",
      "metadata": {
        "id": "BmZS_pZKZVYm",
        "colab_type": "text"
      },
      "source": [
        "Importing all the stuff"
      ]
    },
    {
      "cell_type": "code",
      "metadata": {
        "id": "gZYR_jb5ZS8j",
        "colab_type": "code",
        "colab": {}
      },
      "source": [
        "from google.colab import drive # import drive from google colab\n",
        "\n",
        "import tensorflow as tf\n",
        "from tensorflow.keras.models import Sequential\n",
        "from tensorflow.keras.layers import Dense, Conv2D, Flatten, Dropout, MaxPooling2D, BatchNormalization\n",
        "from tensorflow.keras.preprocessing.image import ImageDataGenerator\n",
        "\n",
        "from sklearn.metrics import confusion_matrix\n",
        "import matplotlib.pyplot as plt\n",
        "import numpy as np\n",
        "import itertools\n",
        "import os"
      ],
      "execution_count": 0,
      "outputs": []
    },
    {
      "cell_type": "markdown",
      "metadata": {
        "id": "r4sAgL8lZir8",
        "colab_type": "text"
      },
      "source": [
        "Retrieving Data"
      ]
    },
    {
      "cell_type": "code",
      "metadata": {
        "id": "F3VXDi7fZWdN",
        "colab_type": "code",
        "outputId": "cccd6482-b4e3-4898-ee36-d43457758386",
        "colab": {
          "base_uri": "https://localhost:8080/",
          "height": 141
        }
      },
      "source": [
        "# Mount Google Drive\n",
        "ROOT = \"/content/drive\"     # default location for the drive\n",
        "print(ROOT)                 # print content of ROOT (Optional)\n",
        "\n",
        "drive.mount(ROOT, force_remount=True)          # we mount the google drive at /content/drive"
      ],
      "execution_count": 2,
      "outputs": [
        {
          "output_type": "stream",
          "text": [
            "/content/drive\n",
            "Go to this URL in a browser: https://accounts.google.com/o/oauth2/auth?client_id=947318989803-6bn6qk8qdgf4n4g3pfee6491hc0brc4i.apps.googleusercontent.com&redirect_uri=urn%3aietf%3awg%3aoauth%3a2.0%3aoob&response_type=code&scope=email%20https%3a%2f%2fwww.googleapis.com%2fauth%2fdocs.test%20https%3a%2f%2fwww.googleapis.com%2fauth%2fdrive%20https%3a%2f%2fwww.googleapis.com%2fauth%2fdrive.photos.readonly%20https%3a%2f%2fwww.googleapis.com%2fauth%2fpeopleapi.readonly\n",
            "\n",
            "Enter your authorization code:\n",
            "··········\n",
            "Mounted at /content/drive\n"
          ],
          "name": "stdout"
        }
      ]
    },
    {
      "cell_type": "code",
      "metadata": {
        "id": "itg1_0CXaNqI",
        "colab_type": "code",
        "outputId": "95b81fc3-8cb6-4405-e85c-6b257f558359",
        "colab": {
          "base_uri": "https://localhost:8080/",
          "height": 35
        }
      },
      "source": [
        "%cd /content/\n",
        "%mkdir dataset"
      ],
      "execution_count": 3,
      "outputs": [
        {
          "output_type": "stream",
          "text": [
            "/content\n"
          ],
          "name": "stdout"
        }
      ]
    },
    {
      "cell_type": "code",
      "metadata": {
        "id": "UvWHKDbLZmZw",
        "colab_type": "code",
        "colab": {}
      },
      "source": [
        "%cd /content/drive/My\\ Drive/Projets/PIR/\n",
        "!unzip dataset.zip -d /content/dataset"
      ],
      "execution_count": 0,
      "outputs": []
    },
    {
      "cell_type": "markdown",
      "metadata": {
        "id": "QaPS6p3xO8yh",
        "colab_type": "text"
      },
      "source": [
        "# Create Train Set"
      ]
    },
    {
      "cell_type": "code",
      "metadata": {
        "id": "pRUC0gZoPCau",
        "colab_type": "code",
        "outputId": "62215117-f940-48ee-87f9-5ebeff514b7e",
        "colab": {
          "base_uri": "https://localhost:8080/",
          "height": 35
        }
      },
      "source": [
        "%cd /content/\n",
        "patients = os.listdir('dataset')\n",
        "%mkdir train_set\n",
        "%mkdir test_set"
      ],
      "execution_count": 5,
      "outputs": [
        {
          "output_type": "stream",
          "text": [
            "/content\n"
          ],
          "name": "stdout"
        }
      ]
    },
    {
      "cell_type": "code",
      "metadata": {
        "id": "Fu1SUYMJPrJ4",
        "colab_type": "code",
        "colab": {}
      },
      "source": [
        "def movePatients(trainList, testList):\n",
        "  for patient in patients:\n",
        "    if patient in trainList:\n",
        "      os.system('rsync -aP /content/dataset/'+patient+'/* /content/train_set/')\n",
        "      print('-- patient :' + patient + ' added to train set')\n",
        "    if patient in testList:\n",
        "      os.system('rsync -a /content/dataset/'+name+'/* /content/test_set/')\n",
        "      print('** patient :' + patient + ' added to test set')\n"
      ],
      "execution_count": 0,
      "outputs": []
    },
    {
      "cell_type": "code",
      "metadata": {
        "id": "xxkSOyyHVurH",
        "colab_type": "code",
        "outputId": "6752b60c-a81c-4e8d-fc1f-f358370d22f5",
        "colab": {
          "base_uri": "https://localhost:8080/",
          "height": 329
        }
      },
      "source": [
        "trainList = ['patient_' + str(i) for i in range(12)]\n",
        "testList = []\n",
        "movePatients(trainList, testList)"
      ],
      "execution_count": 7,
      "outputs": [
        {
          "output_type": "stream",
          "text": [
            "-- patient :patient_0 added to train set\n",
            "-- patient :patient_13 added to train set\n",
            "-- patient :patient_3 added to train set\n",
            "-- patient :patient_11 added to train set\n",
            "-- patient :patient_15 added to train set\n",
            "-- patient :patient_1 added to train set\n",
            "-- patient :patient_17 added to train set\n",
            "-- patient :patient_12 added to train set\n",
            "-- patient :patient_14 added to train set\n",
            "-- patient :patient_9 added to train set\n",
            "-- patient :patient_7 added to train set\n",
            "-- patient :patient_6 added to train set\n",
            "-- patient :patient_16 added to train set\n",
            "-- patient :patient_10 added to train set\n",
            "-- patient :patient_5 added to train set\n",
            "-- patient :patient_2 added to train set\n",
            "-- patient :patient_8 added to train set\n",
            "-- patient :patient_4 added to train set\n"
          ],
          "name": "stdout"
        }
      ]
    },
    {
      "cell_type": "markdown",
      "metadata": {
        "id": "fIGAzYn_cCQU",
        "colab_type": "text"
      },
      "source": [
        "# Checking data"
      ]
    },
    {
      "cell_type": "code",
      "metadata": {
        "id": "l4Nu-eLQcMD9",
        "colab_type": "code",
        "outputId": "26647832-a717-4f7d-9b5b-bb0a45cecd60",
        "colab": {
          "base_uri": "https://localhost:8080/",
          "height": 416
        }
      },
      "source": [
        "labels = ['adrenal_gland_left',\n",
        "'adrenal_gland_rigth',\n",
        "'aorta',\n",
        "'background',\n",
        "'body_envelope',\n",
        "'first_lumbar_vertebra',\n",
        "'gallbladder',\n",
        "'kidney_left',\n",
        "'kidney_right',\n",
        "'liver',\n",
        "'lung_left',\n",
        "'lung_right',\n",
        "'muscle_body_of_left_rectus_abdominis',\n",
        "'muscle_body_of_right_rectus_abdominis',\n",
        "'pancreas',\n",
        "'psoas_major_left',\n",
        "'psoas_major_right',\n",
        "'spleen',\n",
        "'sternum',\n",
        "'thorax-abdomen',\n",
        "'thyroid_gland',\n",
        "'trachea',\n",
        "'urinary_bladder']\n",
        "\n",
        "base_dir = '/content/train_set'\n",
        "\n",
        "for label in labels:\n",
        "  temp_path = os.path.join(base_dir, label)\n",
        "  print(label + \"images: \", len(os.listdir(temp_path)))"
      ],
      "execution_count": 18,
      "outputs": [
        {
          "output_type": "stream",
          "text": [
            "adrenal_gland_leftimages:  15000\n",
            "adrenal_gland_rigthimages:  13000\n",
            "aortaimages:  18000\n",
            "backgroundimages:  17982\n",
            "body_envelopeimages:  18000\n",
            "first_lumbar_vertebraimages:  18000\n",
            "gallbladderimages:  18000\n",
            "kidney_leftimages:  18000\n",
            "kidney_rightimages:  18000\n",
            "liverimages:  18000\n",
            "lung_leftimages:  18000\n",
            "lung_rightimages:  18000\n",
            "muscle_body_of_left_rectus_abdominisimages:  18000\n",
            "muscle_body_of_right_rectus_abdominisimages:  18000\n",
            "pancreasimages:  16000\n",
            "psoas_major_leftimages:  18000\n",
            "psoas_major_rightimages:  18000\n",
            "spleenimages:  18000\n",
            "sternumimages:  18000\n",
            "thorax-abdomenimages:  18000\n",
            "thyroid_glandimages:  13000\n",
            "tracheaimages:  18000\n",
            "urinary_bladderimages:  18000\n"
          ],
          "name": "stdout"
        }
      ]
    },
    {
      "cell_type": "markdown",
      "metadata": {
        "id": "B0yHswmIiqvV",
        "colab_type": "text"
      },
      "source": [
        "# Create Train & Test sets"
      ]
    },
    {
      "cell_type": "code",
      "metadata": {
        "id": "P3TPju3-fNz8",
        "colab_type": "code",
        "outputId": "0c0d45e6-29aa-4dd5-cb44-fb2fadde4f03",
        "colab": {
          "base_uri": "https://localhost:8080/",
          "height": 107
        }
      },
      "source": [
        "batch_size = 1000\n",
        "\n",
        "train_set_dir = '/content/train_set'\n",
        "test_set_dir = '/content/test_set'\n",
        "\n",
        "datagen = ImageDataGenerator(\n",
        "    rescale=1./255,\n",
        "    samplewise_center=True,\n",
        "    samplewise_std_normalization=True,\n",
        "    validation_split=0.2)\n",
        "\n",
        "train_generator = datagen.flow_from_directory(\n",
        "    train_set_dir,\n",
        "    target_size=(33, 33),\n",
        "    batch_size=batch_size,\n",
        "    class_mode='categorical',\n",
        "    color_mode='grayscale',\n",
        "    shuffle=True,\n",
        "    subset='training',) # set as training data\n",
        "\n",
        "validation_generator = datagen.flow_from_directory(\n",
        "    train_set_dir, # same directory as training data\n",
        "    target_size=(33, 33),\n",
        "    batch_size=batch_size,\n",
        "    #early_stopping = keras.callbacks.EarlyStopping(monitor='val_acc', min_delta=0, patience=3, verbose=1, mode='auto'),\n",
        "    class_mode='categorical', #Determines the type of label arrays that are returned:\"categorical\" will be 2D one-hot encoded labels,\n",
        "    shuffle=True,\n",
        "    color_mode='grayscale',\n",
        "    subset='validation') # set as validation data\n",
        "print(train_generator.class_indices)\n",
        "print(validation_generator.classes)"
      ],
      "execution_count": 9,
      "outputs": [
        {
          "output_type": "stream",
          "text": [
            "Found 319186 images belonging to 23 classes.\n",
            "Found 79796 images belonging to 23 classes.\n",
            "{'adrenal_gland_left': 0, 'adrenal_gland_rigth': 1, 'aorta': 2, 'background': 3, 'body_envelope': 4, 'first_lumbar_vertebra': 5, 'gallbladder': 6, 'kidney_left': 7, 'kidney_right': 8, 'liver': 9, 'lung_left': 10, 'lung_right': 11, 'muscle_body_of_left_rectus_abdominis': 12, 'muscle_body_of_right_rectus_abdominis': 13, 'pancreas': 14, 'psoas_major_left': 15, 'psoas_major_right': 16, 'spleen': 17, 'sternum': 18, 'thorax-abdomen': 19, 'thyroid_gland': 20, 'trachea': 21, 'urinary_bladder': 22}\n",
            "[ 0  0  0 ... 22 22 22]\n"
          ],
          "name": "stdout"
        }
      ]
    },
    {
      "cell_type": "markdown",
      "metadata": {
        "id": "tMaG2Rs6jfky",
        "colab_type": "text"
      },
      "source": [
        "Create model"
      ]
    },
    {
      "cell_type": "code",
      "metadata": {
        "id": "Vg4mqs42je4m",
        "colab_type": "code",
        "outputId": "957571e0-a05b-4e96-dd02-ece351fe4710",
        "colab": {
          "base_uri": "https://localhost:8080/",
          "height": 35
        }
      },
      "source": [
        "sample_training_images, y_truth = next(train_generator)\n",
        "sample_training_images.shape"
      ],
      "execution_count": 41,
      "outputs": [
        {
          "output_type": "execute_result",
          "data": {
            "text/plain": [
              "(1000, 33, 33, 1)"
            ]
          },
          "metadata": {
            "tags": []
          },
          "execution_count": 41
        }
      ]
    },
    {
      "cell_type": "code",
      "metadata": {
        "id": "KE5hMtzksg18",
        "colab_type": "code",
        "outputId": "cfb6d55b-4f44-4d7f-daec-deb97dc72b14",
        "colab": {
          "base_uri": "https://localhost:8080/",
          "height": 264
        }
      },
      "source": [
        "# This function will plot images in the form of a grid with 1 row and 5 columns where images are placed in each column.\n",
        "def plotImages(images_arr):\n",
        "    fig, axes = plt.subplots(1, 5, figsize=(20,20))\n",
        "    axes = axes.flatten()\n",
        "    for img, ax in zip( images_arr, axes):\n",
        "\n",
        "      # remove last dimension (1) of the image to make it work with grayscale img\n",
        "      img = np.squeeze(img)\n",
        "\n",
        "      ax.set_title(labels[np.argmax(y_truth[0])])\n",
        "      ax.imshow(img, cmap=\"gray\")\n",
        "      ax.axis('off')\n",
        "    plt.tight_layout()\n",
        "    plt.show()\n",
        "\n",
        "\n",
        "plotImages(sample_training_images[:5])\n"
      ],
      "execution_count": 42,
      "outputs": [
        {
          "output_type": "display_data",
          "data": {
            "image/png": "[encoded data removed]",
            "text/plain": [
              "<Figure size 1440x1440 with 5 Axes>"
            ]
          },
          "metadata": {
            "tags": []
          }
        }
      ]
    },
    {
      "cell_type": "code",
      "metadata": {
        "id": "9-izExmKvT2N",
        "colab_type": "code",
        "outputId": "67573088-df71-4263-d38c-315506b485f6",
        "colab": {
          "base_uri": "https://localhost:8080/",
          "height": 433
        }
      },
      "source": [
        "from tensorflow.keras.regularizers import l2\n",
        "\n",
        "model = Sequential([\n",
        "    Conv2D(32, (3,3), padding=\"valid\", activation='relu', input_shape=(33, 33, 1), kernel_regularizer=l2(0.001), strides=(2, 2)),\n",
        "    Conv2D(64, (3,3) , padding=\"same\", activation=\"relu\", kernel_regularizer=l2(0.001), strides=(2, 2)),\n",
        "    Conv2D(128, (3,3) , padding=\"same\", activation=\"relu\", kernel_regularizer=l2(0.001), strides=(2, 2)),\n",
        "    Flatten(),\n",
        "    Dense(800),\n",
        "    Dropout(0.25),\n",
        "    Dense(84),\n",
        "    Dense(23, activation='softmax'),\n",
        "])\n",
        "\n",
        "model.summary()"
      ],
      "execution_count": 0,
      "outputs": [
        {
          "output_type": "stream",
          "text": [
            "Model: \"sequential_14\"\n",
            "_________________________________________________________________\n",
            "Layer (type)                 Output Shape              Param #   \n",
            "=================================================================\n",
            "conv2d_38 (Conv2D)           (None, 16, 16, 32)        320       \n",
            "_________________________________________________________________\n",
            "conv2d_39 (Conv2D)           (None, 8, 8, 64)          18496     \n",
            "_________________________________________________________________\n",
            "conv2d_40 (Conv2D)           (None, 4, 4, 128)         73856     \n",
            "_________________________________________________________________\n",
            "flatten_14 (Flatten)         (None, 2048)              0         \n",
            "_________________________________________________________________\n",
            "dense_42 (Dense)             (None, 800)               1639200   \n",
            "_________________________________________________________________\n",
            "dropout_3 (Dropout)          (None, 800)               0         \n",
            "_________________________________________________________________\n",
            "dense_43 (Dense)             (None, 84)                67284     \n",
            "_________________________________________________________________\n",
            "dense_44 (Dense)             (None, 23)                1955      \n",
            "=================================================================\n",
            "Total params: 1,801,111\n",
            "Trainable params: 1,801,111\n",
            "Non-trainable params: 0\n",
            "_________________________________________________________________\n"
          ],
          "name": "stdout"
        }
      ]
    },
    {
      "cell_type": "code",
      "metadata": {
        "id": "EKmsXbYD_KiK",
        "colab_type": "code",
        "colab": {}
      },
      "source": [
        "# Load the TensorBoard notebook extension\n",
        "%load_ext tensorboard\n",
        "logs_base_dir = \"./logs\"\n",
        "%tensorboard --logdir {logs_base_dir}"
      ],
      "execution_count": 0,
      "outputs": []
    },
    {
      "cell_type": "markdown",
      "metadata": {
        "id": "qEZZuK_Kjkbd",
        "colab_type": "text"
      },
      "source": [
        "Train Model"
      ]
    },
    {
      "cell_type": "code",
      "metadata": {
        "id": "I8OJhMNvjnAo",
        "colab_type": "code",
        "colab": {}
      },
      "source": [
        "model.compile(optimizer='adam',\n",
        "              loss= tf.keras.losses.CategoricalCrossentropy(from_logits=True),\n",
        "              metrics=['accuracy'])\n"
      ],
      "execution_count": 0,
      "outputs": []
    },
    {
      "cell_type": "code",
      "metadata": {
        "id": "mbFrIwy6A51l",
        "colab_type": "code",
        "outputId": "533d70bc-2cde-4a59-b94d-843cbc4d8022",
        "colab": {
          "base_uri": "https://localhost:8080/",
          "height": 364
        }
      },
      "source": [
        "epochs = 10\n",
        "steps_per_epoch = 500\n",
        "validation_steps = 10\n",
        "\n",
        "history = model.fit(\n",
        "    train_generator,\n",
        "    steps_per_epoch=steps_per_epoch,\n",
        "    epochs=epochs,\n",
        "    validation_data=validation_generator,\n",
        "    validation_steps=validation_steps\n",
        ")"
      ],
      "execution_count": 0,
      "outputs": [
        {
          "output_type": "stream",
          "text": [
            "Epoch 1/10\n",
            "500/500 [==============================] - 137s 274ms/step - loss: 2.7722 - accuracy: 0.4784 - val_loss: 2.6981 - val_accuracy: 0.5452\n",
            "Epoch 2/10\n",
            "500/500 [==============================] - 137s 275ms/step - loss: 2.6107 - accuracy: 0.6339 - val_loss: 2.6241 - val_accuracy: 0.6197\n",
            "Epoch 3/10\n",
            "500/500 [==============================] - 137s 274ms/step - loss: 2.5403 - accuracy: 0.7063 - val_loss: 2.5850 - val_accuracy: 0.6613\n",
            "Epoch 4/10\n",
            "500/500 [==============================] - 137s 274ms/step - loss: 2.5096 - accuracy: 0.7379 - val_loss: 2.5778 - val_accuracy: 0.6682\n",
            "Epoch 5/10\n",
            "500/500 [==============================] - 137s 274ms/step - loss: 2.4915 - accuracy: 0.7558 - val_loss: 2.5703 - val_accuracy: 0.6748\n",
            "Epoch 6/10\n",
            "500/500 [==============================] - 137s 274ms/step - loss: 2.4798 - accuracy: 0.7677 - val_loss: 2.5567 - val_accuracy: 0.6907\n",
            "Epoch 7/10\n",
            "500/500 [==============================] - 136s 272ms/step - loss: 2.4676 - accuracy: 0.7799 - val_loss: 2.5484 - val_accuracy: 0.6962\n",
            "Epoch 8/10\n",
            "500/500 [==============================] - 137s 274ms/step - loss: 2.4601 - accuracy: 0.7871 - val_loss: 2.5411 - val_accuracy: 0.7054\n",
            "Epoch 9/10\n",
            "500/500 [==============================] - 136s 272ms/step - loss: 2.4529 - accuracy: 0.7945 - val_loss: 2.5354 - val_accuracy: 0.7105\n",
            "Epoch 10/10\n",
            "500/500 [==============================] - 136s 272ms/step - loss: 2.4482 - accuracy: 0.7987 - val_loss: 2.5321 - val_accuracy: 0.7136\n"
          ],
          "name": "stdout"
        }
      ]
    },
    {
      "cell_type": "code",
      "metadata": {
        "id": "fMxQQBSSFlgl",
        "colab_type": "code",
        "outputId": "587a6314-839e-416d-cc67-067ecdfdd5ce",
        "colab": {
          "base_uri": "https://localhost:8080/",
          "height": 35
        }
      },
      "source": [
        "%cd /content/drive/My\\ Drive/Projets/PIR/\n",
        "\n",
        "tf.keras.models.save_model(\n",
        "    model, 'epoch_10_range_18_conv_3_regularized_dropout2.keras', overwrite=True, include_optimizer=True, save_format=None,\n",
        "    signatures=None, options=None\n",
        ")"
      ],
      "execution_count": 0,
      "outputs": [
        {
          "output_type": "stream",
          "text": [
            "/content/drive/My Drive/Projets/PIR\n"
          ],
          "name": "stdout"
        }
      ]
    },
    {
      "cell_type": "code",
      "metadata": {
        "id": "23Mh9VOvQQkx",
        "colab_type": "code",
        "outputId": "03c4aee3-1d55-478b-e22d-8cf5f9deda2b",
        "colab": {
          "base_uri": "https://localhost:8080/",
          "height": 301
        }
      },
      "source": [
        "plt.plot(history.history['accuracy'], label='accuracy')\n",
        "plt.plot(history.history['val_accuracy'], label = 'val_accuracy')\n",
        "plt.xlabel('Epoch')\n",
        "plt.ylabel('Accuracy')\n",
        "plt.ylim([0.5, 1])\n",
        "plt.legend(loc='lower right')\n",
        "#plt.savefig('graph_range_18_new_modelB')"
      ],
      "execution_count": 0,
      "outputs": [
        {
          "output_type": "execute_result",
          "data": {
            "text/plain": [
              "<matplotlib.legend.Legend at 0x7f1884429a20>"
            ]
          },
          "metadata": {
            "tags": []
          },
          "execution_count": 55
        },
        {
          "output_type": "display_data",
          "data": {
            "image/png": "[encoded data removed]",
            "text/plain": [
              "<Figure size 432x288 with 1 Axes>"
            ]
          },
          "metadata": {
            "tags": []
          }
        }
      ]
    },
    {
      "cell_type": "code",
      "metadata": {
        "id": "scHlVyCgHDnL",
        "colab_type": "code",
        "outputId": "c0a9a66b-68a2-4273-ca66-273ea83a00a4",
        "colab": {
          "base_uri": "https://localhost:8080/",
          "height": 295
        }
      },
      "source": [
        "# Plot training & validation accuracy values\n",
        "# summarize history for loss\n",
        "plt.plot(history.history['loss'])\n",
        "plt.plot(history.history['val_loss'])\n",
        "plt.title('model loss')\n",
        "plt.ylabel('loss')\n",
        "plt.xlabel('epoch')\n",
        "plt.legend(['train', 'validation'], loc='upper left')\n",
        "plt.show()"
      ],
      "execution_count": 0,
      "outputs": [
        {
          "output_type": "display_data",
          "data": {
            "image/png": "[encoded data removed]",
            "text/plain": [
              "<Figure size 432x288 with 1 Axes>"
            ]
          },
          "metadata": {
            "tags": []
          }
        }
      ]
    },
    {
      "cell_type": "code",
      "metadata": {
        "colab_type": "code",
        "id": "0LnPppQCQed5",
        "colab": {}
      },
      "source": [
        "%cd /content/drive/My\\ Drive/Projets/PIR/\n",
        "!unzip patient_4.zip -d /content/temp/dataset"
      ],
      "execution_count": 0,
      "outputs": []
    },
    {
      "cell_type": "code",
      "metadata": {
        "id": "Hxu6nFv3QmFg",
        "colab_type": "code",
        "outputId": "b1b8b965-ef3d-4c02-c41f-a7a065251b23",
        "colab": {
          "base_uri": "https://localhost:8080/",
          "height": 52
        }
      },
      "source": [
        "test_dir = '/content/temp/dataset/patient_4'\n",
        "\n",
        "batch_size = 18000\n",
        " \n",
        "test_generator = datagen.flow_from_directory(\n",
        "    base_dir,\n",
        "    target_size=(33, 33),\n",
        "    batch_size=batch_size,\n",
        "    class_mode='categorical',\n",
        "    color_mode='grayscale',\n",
        "    shuffle=True,\n",
        "    subset='training') # set as training data\n",
        "\n",
        "test_x, test_y = next(test_generator)\n",
        "\n",
        "test_x.shape"
      ],
      "execution_count": 0,
      "outputs": [
        {
          "output_type": "stream",
          "text": [
            "Found 18400 images belonging to 23 classes.\n"
          ],
          "name": "stdout"
        },
        {
          "output_type": "execute_result",
          "data": {
            "text/plain": [
              "(18000, 33, 33, 1)"
            ]
          },
          "metadata": {
            "tags": []
          },
          "execution_count": 15
        }
      ]
    },
    {
      "cell_type": "code",
      "metadata": {
        "id": "YgFaMCLUVGZg",
        "colab_type": "code",
        "colab": {}
      },
      "source": [
        "def plot_confusion_matrix(cm, classes,\n",
        "                          normalize=False,\n",
        "                          title='Confusion matrix',\n",
        "                          cmap=plt.cm.Blues):\n",
        "    \"\"\"\n",
        "    This function prints and plots the confusion matrix.\n",
        "    Normalization can be applied by setting `normalize=True`.\n",
        "    \"\"\"\n",
        "    if normalize:\n",
        "        cm = cm.astype('float') / cm.sum(axis=1)[:, np.newaxis]\n",
        "        print(\"Normalized confusion matrix\")\n",
        "    else:\n",
        "        print('Confusion matrix, without normalization')\n",
        "\n",
        "    print(cm)\n",
        "\n",
        "    plt.figure(figsize=(11,11))\n",
        "    plt.imshow(cm, interpolation='nearest', cmap=cmap)\n",
        "    plt.title(title)\n",
        "    plt.colorbar()\n",
        "    tick_marks = np.arange(len(classes))\n",
        "    plt.xticks(tick_marks, classes, rotation=45)\n",
        "    plt.yticks(tick_marks, classes)\n",
        "\n",
        "    fmt = '.2f' if normalize else 'd'\n",
        "    thresh = cm.max() / 2.\n",
        "    for i, j in itertools.product(range(cm.shape[0]), range(cm.shape[1])):\n",
        "        plt.text(j, i, format(cm[i, j], fmt),\n",
        "                 horizontalalignment=\"center\",\n",
        "                 color=\"white\" if cm[i, j] > thresh else \"black\")\n",
        "\n",
        "    plt.ylabel('True label')\n",
        "    plt.xlabel('Predicted label')\n",
        "    plt.tight_layout()"
      ],
      "execution_count": 0,
      "outputs": []
    },
    {
      "cell_type": "code",
      "metadata": {
        "id": "MHHPg-zxSHYT",
        "colab_type": "code",
        "colab": {}
      },
      "source": [
        "results = model.predict(test_x)\n",
        "# convert from class probabilities to actual class predictions\n",
        "predicted_classes = np.argmax(results, axis=1)\n",
        "rounded_y = np.argmax(test_y, axis=1)"
      ],
      "execution_count": 0,
      "outputs": []
    },
    {
      "cell_type": "code",
      "metadata": {
        "id": "35hwWJyfWPkz",
        "colab_type": "code",
        "colab": {}
      },
      "source": [
        "oredered_labels = ['aorta', 'background', 'body_envelope', 'first_lumbar_vertebra', 'gallbladder', 'left_adrenal_gland',\n",
        "                   'left_kidney', 'left_lung', 'left_psoas_major', 'liver', 'muscle_body_of_left_rectus_abdominis',\n",
        "                   'muscle_body_of_right_rectus_abdominis', 'pancreas', 'right_adrenal_gland', 'right_kidney', 'right_lung',\n",
        "                   'right_psoas_major', 'spleen', 'sternum', 'thorax-abdomen', 'thyroid_gland', 'trachea', 'urinary_bladder']"
      ],
      "execution_count": 0,
      "outputs": []
    },
    {
      "cell_type": "code",
      "metadata": {
        "colab_type": "code",
        "id": "yNIYs6XZhQUo",
        "colab": {}
      },
      "source": [
        "# Generate the confusion matrix\n",
        "cnf_matrix = confusion_matrix(rounded_y, predicted_classes)\n",
        "\n",
        "# Plot non-normalized confusion matrix\n",
        "plot_confusion_matrix(cnf_matrix, classes=oredered_labels,normalize=True, title='Confusion matrix, without normalization')"
      ],
      "execution_count": 0,
      "outputs": []
    }
  ]
}