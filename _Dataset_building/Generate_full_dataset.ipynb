{
 "nbformat": 4,
 "nbformat_minor": 2,
 "metadata": {
  "language_info": {
   "name": "python",
   "codemirror_mode": {
    "name": "ipython",
    "version": 3
   },
   "version": "3.7.6-final"
  },
  "orig_nbformat": 2,
  "file_extension": ".py",
  "mimetype": "text/x-python",
  "name": "python",
  "npconvert_exporter": "python",
  "pygments_lexer": "ipython3",
  "version": 3,
  "kernelspec": {
   "name": "python3",
   "display_name": "Python 3"
  }
 },
 "cells": [
  {
   "cell_type": "code",
   "execution_count": 8,
   "metadata": {},
   "outputs": [],
   "source": [
    "import os\n",
    "import pandas as pd\n",
    "import matplotlib.pyplot as plt\n",
    "import numpy as np\n",
    "from PIL import Image\n",
    "\n",
    "files = os.listdir('data_blocks')\n",
    "BLOCK_SIZE = 33\n",
    "prefix = [ 'patient_' + str(i) for i in range(len(files))]"
   ]
  },
  {
   "cell_type": "code",
   "execution_count": 9,
   "metadata": {},
   "outputs": [],
   "source": [
    "#list of labels\n",
    "labels = {\n",
    "  0          :\"background\",\n",
    "  1          :\"body_envelope\",\n",
    "  2          :\"thorax-abdomen\",\n",
    "  58         :\"liver\",\n",
    "  86         :\"spleen\",\n",
    "  170        :\"pancreas\",\n",
    "  187        :\"gallbladder\",\n",
    "  237        :\"urinary_bladder\",\n",
    "  480        :\"aorta\",\n",
    "  1247       :\"trachea\",\n",
    "  1302       :\"lung_right\",\n",
    "  1326       :\"lung_left\",\n",
    "  2473       :\"sternum\",\n",
    "  7578       :\"thyroid_gland\",\n",
    "  29193      :\"first_lumbar_vertebra\",\n",
    "  29662      :\"kidney_right\",\n",
    "  29663      :\"kidney_left\",\n",
    "  30324      :\"adrenal_gland_rigth\",\n",
    "  30325      :\"adrenal_gland_left\",\n",
    "  32248      :\"psoas_major_right\",\n",
    "  32249      :\"psoas_major_left\",\n",
    "  40357      :\"muscle_body_of_right_rectus_abdominis\",\n",
    "  40358      :\"muscle_body_of_left_rectus_abdominis\",\n",
    "}"
   ]
  },
  {
   "cell_type": "code",
   "execution_count": 10,
   "metadata": {},
   "outputs": [],
   "source": [
    "#convert scanner relative value [-1024, 2976] to [0, 255] => 8 bits\n",
    "converter = lambda t: (((t + 1024)/2000) * 255).astype(np.uint8)"
   ]
  },
  {
   "cell_type": "code",
   "execution_count": 12,
   "metadata": {},
   "outputs": [
    {
     "output_type": "stream",
     "name": "stdout",
     "text": "Directory already exists\nDirectory already exists\nDirectory already exists\nDirectory already exists\nDirectory already exists\nDirectory already exists\nDirectory already exists\nDirectory already exists\nDirectory already exists\nDirectory already exists\nDirectory already exists\nDirectory already exists\nDirectory already exists\nDirectory already exists\nDirectory already exists\nDirectory already exists\nDirectory already exists\nDirectory already exists\nDirectory already exists\nDirectory already exists\nDirectory already exists\nDirectory already exists\nDirectory already exists\nDirectory already exists\n"
    }
   ],
   "source": [
    "for i in range(len(files)):\n",
    "    try:\n",
    "        # Create dir for patient\n",
    "        os.mkdir(prefix[i])   \n",
    "    except FileExistsError:\n",
    "        print(\"Directory already exists\")  \n",
    "\n",
    "    # Create sub-dir for classes\n",
    "    for key, val in labels.items():\n",
    "        try:\n",
    "        # Create dir for patient\n",
    "            os.mkdir(prefix[i]+\"/\"+val)\n",
    "        except FileExistsError:\n",
    "            print(\"Directory already exists\")\n",
    "\n",
    "    data = pd.read_csv('./data_blocks/'+files[i], dtype=\"int32\")\n",
    "    # Subsets creation\n",
    "    df_y = data.iloc[:, 0]\n",
    "    df_x = data.iloc[:, 1:]\n",
    "    ### We want to write image files from the csv according to the class\n",
    "    #convert dataframe to numpy array\n",
    "    for j in range(df_x.shape[0]):\n",
    "        block = df_x.iloc[j].to_numpy()\n",
    "        block = block.reshape(BLOCK_SIZE,BLOCK_SIZE)\n",
    "        block = converter(block)\n",
    "        im = Image.fromarray(block)\n",
    "        im.save(prefix[i] +\"/\" + labels[df_y[j]] + \"/\" + prefix[i] +\"_\" + str(j) + \".png\")\n",
    ""
   ]
  }
 ]
}