{
 "cells": [
  {
   "cell_type": "code",
   "execution_count": 1,
   "metadata": {},
   "outputs": [],
   "source": [
    "import pandas as pd\n",
    "import pandas as pd \n",
    "from matplotlib import pyplot as plt\n",
    "from sklearn.ensemble import RandomForestClassifier\n",
    "from sklearn.model_selection import train_test_split\n",
    "%matplotlib inline"
   ]
  },
  {
   "cell_type": "code",
   "execution_count": 2,
   "metadata": {},
   "outputs": [
    {
     "name": "stderr",
     "output_type": "stream",
     "text": [
      "C:\\Users\\antoi\\Anaconda3\\envs\\pir-rf\\lib\\site-packages\\IPython\\core\\interactiveshell.py:3049: DtypeWarning: Columns (0) have mixed types. Specify dtype option on import or set low_memory=False.\n",
      "  interactivity=interactivity, compiler=compiler, result=result)\n"
     ]
    }
   ],
   "source": [
    "data=pd.read_csv('total.csv')"
   ]
  },
  {
   "cell_type": "code",
   "execution_count": 3,
   "metadata": {
    "scrolled": true
   },
   "outputs": [
    {
     "data": {
      "text/html": [
       "<div>\n",
       "<style scoped>\n",
       "    .dataframe tbody tr th:only-of-type {\n",
       "        vertical-align: middle;\n",
       "    }\n",
       "\n",
       "    .dataframe tbody tr th {\n",
       "        vertical-align: top;\n",
       "    }\n",
       "\n",
       "    .dataframe thead th {\n",
       "        text-align: right;\n",
       "    }\n",
       "</style>\n",
       "<table border=\"1\" class=\"dataframe\">\n",
       "  <thead>\n",
       "    <tr style=\"text-align: right;\">\n",
       "      <th></th>\n",
       "      <th>0</th>\n",
       "      <th>2.32369</th>\n",
       "      <th>2.42472</th>\n",
       "      <th>2.62678</th>\n",
       "      <th>3.0309</th>\n",
       "      <th>2.0206</th>\n",
       "      <th>2.12163</th>\n",
       "      <th>3.0309.1</th>\n",
       "      <th>2.62678.1</th>\n",
       "      <th>2.0206.1</th>\n",
       "      <th>...</th>\n",
       "      <th>0.707211.1</th>\n",
       "      <th>0.40412</th>\n",
       "      <th>2.52575.78</th>\n",
       "      <th>2.62678.88</th>\n",
       "      <th>2.72781.65</th>\n",
       "      <th>3.83914.5</th>\n",
       "      <th>3.13193.36</th>\n",
       "      <th>1.41442.9</th>\n",
       "      <th>1.71751.27</th>\n",
       "      <th>2.82884.66</th>\n",
       "    </tr>\n",
       "  </thead>\n",
       "  <tbody>\n",
       "    <tr>\n",
       "      <th>0</th>\n",
       "      <td>0</td>\n",
       "      <td>2.12163</td>\n",
       "      <td>2.42472</td>\n",
       "      <td>2.72781</td>\n",
       "      <td>2.02060</td>\n",
       "      <td>2.22266</td>\n",
       "      <td>3.03090</td>\n",
       "      <td>3.03090</td>\n",
       "      <td>3.03090</td>\n",
       "      <td>2.82884</td>\n",
       "      <td>...</td>\n",
       "      <td>2.02060</td>\n",
       "      <td>2.82884</td>\n",
       "      <td>2.52575</td>\n",
       "      <td>2.02060</td>\n",
       "      <td>2.42472</td>\n",
       "      <td>2.32369</td>\n",
       "      <td>2.12163</td>\n",
       "      <td>2.32369</td>\n",
       "      <td>2.72781</td>\n",
       "      <td>2.62678</td>\n",
       "    </tr>\n",
       "    <tr>\n",
       "      <th>1</th>\n",
       "      <td>0</td>\n",
       "      <td>2.32369</td>\n",
       "      <td>2.62678</td>\n",
       "      <td>3.83914</td>\n",
       "      <td>3.03090</td>\n",
       "      <td>2.62678</td>\n",
       "      <td>2.82884</td>\n",
       "      <td>2.62678</td>\n",
       "      <td>2.82884</td>\n",
       "      <td>3.23296</td>\n",
       "      <td>...</td>\n",
       "      <td>3.03090</td>\n",
       "      <td>2.72781</td>\n",
       "      <td>2.62678</td>\n",
       "      <td>3.03090</td>\n",
       "      <td>3.23296</td>\n",
       "      <td>2.12163</td>\n",
       "      <td>3.13193</td>\n",
       "      <td>3.23296</td>\n",
       "      <td>2.42472</td>\n",
       "      <td>2.32369</td>\n",
       "    </tr>\n",
       "    <tr>\n",
       "      <th>2</th>\n",
       "      <td>0</td>\n",
       "      <td>3.13193</td>\n",
       "      <td>3.23296</td>\n",
       "      <td>3.03090</td>\n",
       "      <td>2.32369</td>\n",
       "      <td>3.23296</td>\n",
       "      <td>3.73811</td>\n",
       "      <td>3.33399</td>\n",
       "      <td>2.92987</td>\n",
       "      <td>2.52575</td>\n",
       "      <td>...</td>\n",
       "      <td>2.32369</td>\n",
       "      <td>2.32369</td>\n",
       "      <td>2.32369</td>\n",
       "      <td>2.22266</td>\n",
       "      <td>2.82884</td>\n",
       "      <td>2.72781</td>\n",
       "      <td>2.62678</td>\n",
       "      <td>2.42472</td>\n",
       "      <td>2.42472</td>\n",
       "      <td>3.23296</td>\n",
       "    </tr>\n",
       "    <tr>\n",
       "      <th>3</th>\n",
       "      <td>0</td>\n",
       "      <td>79.91480</td>\n",
       "      <td>87.49210</td>\n",
       "      <td>93.45290</td>\n",
       "      <td>98.90850</td>\n",
       "      <td>102.44500</td>\n",
       "      <td>103.96000</td>\n",
       "      <td>105.37400</td>\n",
       "      <td>106.28400</td>\n",
       "      <td>108.91000</td>\n",
       "      <td>...</td>\n",
       "      <td>5.65769</td>\n",
       "      <td>6.66799</td>\n",
       "      <td>7.88035</td>\n",
       "      <td>7.88035</td>\n",
       "      <td>7.27417</td>\n",
       "      <td>5.55666</td>\n",
       "      <td>6.06181</td>\n",
       "      <td>6.76902</td>\n",
       "      <td>6.66799</td>\n",
       "      <td>7.27417</td>\n",
       "    </tr>\n",
       "    <tr>\n",
       "      <th>4</th>\n",
       "      <td>0</td>\n",
       "      <td>0.00000</td>\n",
       "      <td>0.00000</td>\n",
       "      <td>0.00000</td>\n",
       "      <td>0.00000</td>\n",
       "      <td>0.00000</td>\n",
       "      <td>0.00000</td>\n",
       "      <td>0.00000</td>\n",
       "      <td>0.00000</td>\n",
       "      <td>0.00000</td>\n",
       "      <td>...</td>\n",
       "      <td>2.02060</td>\n",
       "      <td>2.22266</td>\n",
       "      <td>1.81854</td>\n",
       "      <td>2.32369</td>\n",
       "      <td>2.22266</td>\n",
       "      <td>2.42472</td>\n",
       "      <td>2.62678</td>\n",
       "      <td>2.02060</td>\n",
       "      <td>2.42472</td>\n",
       "      <td>2.62678</td>\n",
       "    </tr>\n",
       "  </tbody>\n",
       "</table>\n",
       "<p>5 rows × 1090 columns</p>\n",
       "</div>"
      ],
      "text/plain": [
       "   0   2.32369   2.42472   2.62678    3.0309     2.0206    2.12163   3.0309.1  \\\n",
       "0  0   2.12163   2.42472   2.72781   2.02060    2.22266    3.03090    3.03090   \n",
       "1  0   2.32369   2.62678   3.83914   3.03090    2.62678    2.82884    2.62678   \n",
       "2  0   3.13193   3.23296   3.03090   2.32369    3.23296    3.73811    3.33399   \n",
       "3  0  79.91480  87.49210  93.45290  98.90850  102.44500  103.96000  105.37400   \n",
       "4  0   0.00000   0.00000   0.00000   0.00000    0.00000    0.00000    0.00000   \n",
       "\n",
       "   2.62678.1   2.0206.1  ...  0.707211.1  0.40412  2.52575.78  2.62678.88  \\\n",
       "0    3.03090    2.82884  ...     2.02060  2.82884     2.52575     2.02060   \n",
       "1    2.82884    3.23296  ...     3.03090  2.72781     2.62678     3.03090   \n",
       "2    2.92987    2.52575  ...     2.32369  2.32369     2.32369     2.22266   \n",
       "3  106.28400  108.91000  ...     5.65769  6.66799     7.88035     7.88035   \n",
       "4    0.00000    0.00000  ...     2.02060  2.22266     1.81854     2.32369   \n",
       "\n",
       "   2.72781.65  3.83914.5  3.13193.36  1.41442.9  1.71751.27  2.82884.66  \n",
       "0     2.42472    2.32369     2.12163    2.32369     2.72781     2.62678  \n",
       "1     3.23296    2.12163     3.13193    3.23296     2.42472     2.32369  \n",
       "2     2.82884    2.72781     2.62678    2.42472     2.42472     3.23296  \n",
       "3     7.27417    5.55666     6.06181    6.76902     6.66799     7.27417  \n",
       "4     2.22266    2.42472     2.62678    2.02060     2.42472     2.62678  \n",
       "\n",
       "[5 rows x 1090 columns]"
      ]
     },
     "execution_count": 3,
     "metadata": {},
     "output_type": "execute_result"
    }
   ],
   "source": [
    "data.head()"
   ]
  },
  {
   "cell_type": "code",
   "execution_count": 4,
   "metadata": {},
   "outputs": [
    {
     "data": {
      "text/plain": [
       "<matplotlib.image.AxesImage at 0x28fb310fc50>"
      ]
     },
     "execution_count": 4,
     "metadata": {},
     "output_type": "execute_result"
    },
    {
     "data": {
      "image/png": "[encoded data removed]",
      "text/plain": [
       "<Figure size 432x288 with 1 Axes>"
      ]
     },
     "metadata": {
      "needs_background": "light"
     },
     "output_type": "display_data"
    }
   ],
   "source": [
    "a=data.iloc[2,1:].values\n",
    "a=a.reshape(33,33).astype('uint8')\n",
    "plt.imshow(a)"
   ]
  },
  {
   "cell_type": "code",
   "execution_count": 5,
   "metadata": {},
   "outputs": [],
   "source": [
    "df_x=data.iloc[:,1:]\n",
    "df_y=data.iloc[:,0]"
   ]
  },
  {
   "cell_type": "code",
   "execution_count": 8,
   "metadata": {},
   "outputs": [],
   "source": [
    "x_train, x_test, y_train, y_test = train_test_split(df_x, df_y, test_size=0, random_state=4)"
   ]
  },
  {
   "cell_type": "code",
   "execution_count": 9,
   "metadata": {},
   "outputs": [
    {
     "data": {
      "text/html": [
       "<div>\n",
       "<style scoped>\n",
       "    .dataframe tbody tr th:only-of-type {\n",
       "        vertical-align: middle;\n",
       "    }\n",
       "\n",
       "    .dataframe tbody tr th {\n",
       "        vertical-align: top;\n",
       "    }\n",
       "\n",
       "    .dataframe thead th {\n",
       "        text-align: right;\n",
       "    }\n",
       "</style>\n",
       "<table border=\"1\" class=\"dataframe\">\n",
       "  <thead>\n",
       "    <tr style=\"text-align: right;\">\n",
       "      <th></th>\n",
       "      <th>2.32369</th>\n",
       "      <th>2.42472</th>\n",
       "      <th>2.62678</th>\n",
       "      <th>3.0309</th>\n",
       "      <th>2.0206</th>\n",
       "      <th>2.12163</th>\n",
       "      <th>3.0309.1</th>\n",
       "      <th>2.62678.1</th>\n",
       "      <th>2.0206.1</th>\n",
       "      <th>3.33399</th>\n",
       "      <th>...</th>\n",
       "      <th>0.707211.1</th>\n",
       "      <th>0.40412</th>\n",
       "      <th>2.52575.78</th>\n",
       "      <th>2.62678.88</th>\n",
       "      <th>2.72781.65</th>\n",
       "      <th>3.83914.5</th>\n",
       "      <th>3.13193.36</th>\n",
       "      <th>1.41442.9</th>\n",
       "      <th>1.71751.27</th>\n",
       "      <th>2.82884.66</th>\n",
       "    </tr>\n",
       "  </thead>\n",
       "  <tbody>\n",
       "    <tr>\n",
       "      <th>214798</th>\n",
       "      <td>63.43130</td>\n",
       "      <td>63.2400</td>\n",
       "      <td>63.81380</td>\n",
       "      <td>64.51500</td>\n",
       "      <td>64.7700</td>\n",
       "      <td>66.68250</td>\n",
       "      <td>69.8063</td>\n",
       "      <td>70.9538</td>\n",
       "      <td>71.4000</td>\n",
       "      <td>71.2725</td>\n",
       "      <td>...</td>\n",
       "      <td>70.2525</td>\n",
       "      <td>68.5950</td>\n",
       "      <td>67.51130</td>\n",
       "      <td>67.0013</td>\n",
       "      <td>65.8538</td>\n",
       "      <td>63.7500</td>\n",
       "      <td>64.7700</td>\n",
       "      <td>66.4275</td>\n",
       "      <td>66.23630</td>\n",
       "      <td>65.72620</td>\n",
       "    </tr>\n",
       "    <tr>\n",
       "      <th>313403</th>\n",
       "      <td>1.08375</td>\n",
       "      <td>0.6375</td>\n",
       "      <td>0.57375</td>\n",
       "      <td>1.33875</td>\n",
       "      <td>1.4025</td>\n",
       "      <td>1.33875</td>\n",
       "      <td>1.2750</td>\n",
       "      <td>0.7650</td>\n",
       "      <td>0.5100</td>\n",
       "      <td>0.7650</td>\n",
       "      <td>...</td>\n",
       "      <td>0.6375</td>\n",
       "      <td>0.6375</td>\n",
       "      <td>1.21125</td>\n",
       "      <td>1.0200</td>\n",
       "      <td>0.7650</td>\n",
       "      <td>1.2750</td>\n",
       "      <td>1.6575</td>\n",
       "      <td>1.5300</td>\n",
       "      <td>1.46625</td>\n",
       "      <td>1.08375</td>\n",
       "    </tr>\n",
       "    <tr>\n",
       "      <th>373801</th>\n",
       "      <td>14.66250</td>\n",
       "      <td>13.6425</td>\n",
       "      <td>12.62250</td>\n",
       "      <td>13.00500</td>\n",
       "      <td>13.0050</td>\n",
       "      <td>12.43120</td>\n",
       "      <td>12.5588</td>\n",
       "      <td>13.1962</td>\n",
       "      <td>18.6150</td>\n",
       "      <td>29.6437</td>\n",
       "      <td>...</td>\n",
       "      <td>77.3288</td>\n",
       "      <td>77.3925</td>\n",
       "      <td>77.07380</td>\n",
       "      <td>76.5000</td>\n",
       "      <td>76.6913</td>\n",
       "      <td>76.3725</td>\n",
       "      <td>74.9062</td>\n",
       "      <td>72.4837</td>\n",
       "      <td>70.38000</td>\n",
       "      <td>71.59120</td>\n",
       "    </tr>\n",
       "    <tr>\n",
       "      <th>398608</th>\n",
       "      <td>97.79080</td>\n",
       "      <td>98.5165</td>\n",
       "      <td>97.88150</td>\n",
       "      <td>98.24440</td>\n",
       "      <td>98.8794</td>\n",
       "      <td>95.88580</td>\n",
       "      <td>93.3458</td>\n",
       "      <td>92.3479</td>\n",
       "      <td>96.4301</td>\n",
       "      <td>101.6920</td>\n",
       "      <td>...</td>\n",
       "      <td>100.7840</td>\n",
       "      <td>99.7866</td>\n",
       "      <td>100.78400</td>\n",
       "      <td>102.0540</td>\n",
       "      <td>100.8750</td>\n",
       "      <td>101.8730</td>\n",
       "      <td>102.7800</td>\n",
       "      <td>101.0570</td>\n",
       "      <td>101.78200</td>\n",
       "      <td>101.41900</td>\n",
       "    </tr>\n",
       "    <tr>\n",
       "      <th>388493</th>\n",
       "      <td>87.63070</td>\n",
       "      <td>87.0864</td>\n",
       "      <td>85.54430</td>\n",
       "      <td>86.27000</td>\n",
       "      <td>86.3607</td>\n",
       "      <td>87.63070</td>\n",
       "      <td>87.9029</td>\n",
       "      <td>89.8079</td>\n",
       "      <td>93.2551</td>\n",
       "      <td>92.5294</td>\n",
       "      <td>...</td>\n",
       "      <td>86.2700</td>\n",
       "      <td>86.8143</td>\n",
       "      <td>85.54430</td>\n",
       "      <td>84.7279</td>\n",
       "      <td>85.9979</td>\n",
       "      <td>85.6350</td>\n",
       "      <td>85.3629</td>\n",
       "      <td>86.8143</td>\n",
       "      <td>89.71720</td>\n",
       "      <td>91.71290</td>\n",
       "    </tr>\n",
       "  </tbody>\n",
       "</table>\n",
       "<p>5 rows × 1089 columns</p>\n",
       "</div>"
      ],
      "text/plain": [
       "         2.32369  2.42472   2.62678    3.0309   2.0206   2.12163  3.0309.1  \\\n",
       "214798  63.43130  63.2400  63.81380  64.51500  64.7700  66.68250   69.8063   \n",
       "313403   1.08375   0.6375   0.57375   1.33875   1.4025   1.33875    1.2750   \n",
       "373801  14.66250  13.6425  12.62250  13.00500  13.0050  12.43120   12.5588   \n",
       "398608  97.79080  98.5165  97.88150  98.24440  98.8794  95.88580   93.3458   \n",
       "388493  87.63070  87.0864  85.54430  86.27000  86.3607  87.63070   87.9029   \n",
       "\n",
       "        2.62678.1  2.0206.1   3.33399  ...  0.707211.1  0.40412  2.52575.78  \\\n",
       "214798    70.9538   71.4000   71.2725  ...     70.2525  68.5950    67.51130   \n",
       "313403     0.7650    0.5100    0.7650  ...      0.6375   0.6375     1.21125   \n",
       "373801    13.1962   18.6150   29.6437  ...     77.3288  77.3925    77.07380   \n",
       "398608    92.3479   96.4301  101.6920  ...    100.7840  99.7866   100.78400   \n",
       "388493    89.8079   93.2551   92.5294  ...     86.2700  86.8143    85.54430   \n",
       "\n",
       "        2.62678.88  2.72781.65  3.83914.5  3.13193.36  1.41442.9  1.71751.27  \\\n",
       "214798     67.0013     65.8538    63.7500     64.7700    66.4275    66.23630   \n",
       "313403      1.0200      0.7650     1.2750      1.6575     1.5300     1.46625   \n",
       "373801     76.5000     76.6913    76.3725     74.9062    72.4837    70.38000   \n",
       "398608    102.0540    100.8750   101.8730    102.7800   101.0570   101.78200   \n",
       "388493     84.7279     85.9979    85.6350     85.3629    86.8143    89.71720   \n",
       "\n",
       "        2.82884.66  \n",
       "214798    65.72620  \n",
       "313403     1.08375  \n",
       "373801    71.59120  \n",
       "398608   101.41900  \n",
       "388493    91.71290  \n",
       "\n",
       "[5 rows x 1089 columns]"
      ]
     },
     "execution_count": 9,
     "metadata": {},
     "output_type": "execute_result"
    }
   ],
   "source": [
    "x_train.head()"
   ]
  },
  {
   "cell_type": "code",
   "execution_count": 10,
   "metadata": {},
   "outputs": [
    {
     "data": {
      "text/plain": [
       "214798    30325\n",
       "313403        0\n",
       "373801      480\n",
       "398608       86\n",
       "388493    29663\n",
       "Name: 0, dtype: object"
      ]
     },
     "execution_count": 10,
     "metadata": {},
     "output_type": "execute_result"
    }
   ],
   "source": [
    "y_train.head()"
   ]
  },
  {
   "cell_type": "code",
   "execution_count": 11,
   "metadata": {
    "scrolled": true
   },
   "outputs": [
    {
     "ename": "MemoryError",
     "evalue": "",
     "output_type": "error",
     "traceback": [
      "\u001b[1;31m---------------------------------------------------------------------------\u001b[0m",
      "\u001b[1;31mMemoryError\u001b[0m                               Traceback (most recent call last)",
      "\u001b[1;32m<ipython-input-11-fc1b5bdf09e9>\u001b[0m in \u001b[0;36m<module>\u001b[1;34m\u001b[0m\n\u001b[0;32m      1\u001b[0m \u001b[0mrf\u001b[0m\u001b[1;33m=\u001b[0m\u001b[0mRandomForestClassifier\u001b[0m\u001b[1;33m(\u001b[0m\u001b[0mn_estimators\u001b[0m\u001b[1;33m=\u001b[0m\u001b[1;36m100\u001b[0m\u001b[1;33m)\u001b[0m\u001b[1;33m\u001b[0m\u001b[1;33m\u001b[0m\u001b[0m\n\u001b[1;32m----> 2\u001b[1;33m \u001b[0mrf\u001b[0m\u001b[1;33m.\u001b[0m\u001b[0mfit\u001b[0m\u001b[1;33m(\u001b[0m\u001b[0mx_train\u001b[0m\u001b[1;33m,\u001b[0m\u001b[0my_train\u001b[0m\u001b[1;33m)\u001b[0m\u001b[1;33m\u001b[0m\u001b[1;33m\u001b[0m\u001b[0m\n\u001b[0m",
      "\u001b[1;32m~\\Anaconda3\\envs\\pir-rf\\lib\\site-packages\\sklearn\\ensemble\\forest.py\u001b[0m in \u001b[0;36mfit\u001b[1;34m(self, X, y, sample_weight)\u001b[0m\n\u001b[0;32m    248\u001b[0m \u001b[1;33m\u001b[0m\u001b[0m\n\u001b[0;32m    249\u001b[0m         \u001b[1;31m# Validate or convert input data\u001b[0m\u001b[1;33m\u001b[0m\u001b[1;33m\u001b[0m\u001b[1;33m\u001b[0m\u001b[0m\n\u001b[1;32m--> 250\u001b[1;33m         \u001b[0mX\u001b[0m \u001b[1;33m=\u001b[0m \u001b[0mcheck_array\u001b[0m\u001b[1;33m(\u001b[0m\u001b[0mX\u001b[0m\u001b[1;33m,\u001b[0m \u001b[0maccept_sparse\u001b[0m\u001b[1;33m=\u001b[0m\u001b[1;34m\"csc\"\u001b[0m\u001b[1;33m,\u001b[0m \u001b[0mdtype\u001b[0m\u001b[1;33m=\u001b[0m\u001b[0mDTYPE\u001b[0m\u001b[1;33m)\u001b[0m\u001b[1;33m\u001b[0m\u001b[1;33m\u001b[0m\u001b[0m\n\u001b[0m\u001b[0;32m    251\u001b[0m         \u001b[0my\u001b[0m \u001b[1;33m=\u001b[0m \u001b[0mcheck_array\u001b[0m\u001b[1;33m(\u001b[0m\u001b[0my\u001b[0m\u001b[1;33m,\u001b[0m \u001b[0maccept_sparse\u001b[0m\u001b[1;33m=\u001b[0m\u001b[1;34m'csc'\u001b[0m\u001b[1;33m,\u001b[0m \u001b[0mensure_2d\u001b[0m\u001b[1;33m=\u001b[0m\u001b[1;32mFalse\u001b[0m\u001b[1;33m,\u001b[0m \u001b[0mdtype\u001b[0m\u001b[1;33m=\u001b[0m\u001b[1;32mNone\u001b[0m\u001b[1;33m)\u001b[0m\u001b[1;33m\u001b[0m\u001b[1;33m\u001b[0m\u001b[0m\n\u001b[0;32m    252\u001b[0m         \u001b[1;32mif\u001b[0m \u001b[0msample_weight\u001b[0m \u001b[1;32mis\u001b[0m \u001b[1;32mnot\u001b[0m \u001b[1;32mNone\u001b[0m\u001b[1;33m:\u001b[0m\u001b[1;33m\u001b[0m\u001b[1;33m\u001b[0m\u001b[0m\n",
      "\u001b[1;32m~\\Anaconda3\\envs\\pir-rf\\lib\\site-packages\\sklearn\\utils\\validation.py\u001b[0m in \u001b[0;36mcheck_array\u001b[1;34m(array, accept_sparse, accept_large_sparse, dtype, order, copy, force_all_finite, ensure_2d, allow_nd, ensure_min_samples, ensure_min_features, warn_on_dtype, estimator)\u001b[0m\n\u001b[0;32m    525\u001b[0m             \u001b[1;32mtry\u001b[0m\u001b[1;33m:\u001b[0m\u001b[1;33m\u001b[0m\u001b[1;33m\u001b[0m\u001b[0m\n\u001b[0;32m    526\u001b[0m                 \u001b[0mwarnings\u001b[0m\u001b[1;33m.\u001b[0m\u001b[0msimplefilter\u001b[0m\u001b[1;33m(\u001b[0m\u001b[1;34m'error'\u001b[0m\u001b[1;33m,\u001b[0m \u001b[0mComplexWarning\u001b[0m\u001b[1;33m)\u001b[0m\u001b[1;33m\u001b[0m\u001b[1;33m\u001b[0m\u001b[0m\n\u001b[1;32m--> 527\u001b[1;33m                 \u001b[0marray\u001b[0m \u001b[1;33m=\u001b[0m \u001b[0mnp\u001b[0m\u001b[1;33m.\u001b[0m\u001b[0masarray\u001b[0m\u001b[1;33m(\u001b[0m\u001b[0marray\u001b[0m\u001b[1;33m,\u001b[0m \u001b[0mdtype\u001b[0m\u001b[1;33m=\u001b[0m\u001b[0mdtype\u001b[0m\u001b[1;33m,\u001b[0m \u001b[0morder\u001b[0m\u001b[1;33m=\u001b[0m\u001b[0morder\u001b[0m\u001b[1;33m)\u001b[0m\u001b[1;33m\u001b[0m\u001b[1;33m\u001b[0m\u001b[0m\n\u001b[0m\u001b[0;32m    528\u001b[0m             \u001b[1;32mexcept\u001b[0m \u001b[0mComplexWarning\u001b[0m\u001b[1;33m:\u001b[0m\u001b[1;33m\u001b[0m\u001b[1;33m\u001b[0m\u001b[0m\n\u001b[0;32m    529\u001b[0m                 raise ValueError(\"Complex data not supported\\n\"\n",
      "\u001b[1;32m~\\Anaconda3\\envs\\pir-rf\\lib\\site-packages\\numpy\\core\\numeric.py\u001b[0m in \u001b[0;36masarray\u001b[1;34m(a, dtype, order)\u001b[0m\n\u001b[0;32m    536\u001b[0m \u001b[1;33m\u001b[0m\u001b[0m\n\u001b[0;32m    537\u001b[0m     \"\"\"\n\u001b[1;32m--> 538\u001b[1;33m     \u001b[1;32mreturn\u001b[0m \u001b[0marray\u001b[0m\u001b[1;33m(\u001b[0m\u001b[0ma\u001b[0m\u001b[1;33m,\u001b[0m \u001b[0mdtype\u001b[0m\u001b[1;33m,\u001b[0m \u001b[0mcopy\u001b[0m\u001b[1;33m=\u001b[0m\u001b[1;32mFalse\u001b[0m\u001b[1;33m,\u001b[0m \u001b[0morder\u001b[0m\u001b[1;33m=\u001b[0m\u001b[0morder\u001b[0m\u001b[1;33m)\u001b[0m\u001b[1;33m\u001b[0m\u001b[1;33m\u001b[0m\u001b[0m\n\u001b[0m\u001b[0;32m    539\u001b[0m \u001b[1;33m\u001b[0m\u001b[0m\n\u001b[0;32m    540\u001b[0m \u001b[1;33m\u001b[0m\u001b[0m\n",
      "\u001b[1;31mMemoryError\u001b[0m: "
     ]
    }
   ],
   "source": [
    "rf=RandomForestClassifier(n_estimators=100)\n",
    "rf.fit(x_train,y_train)"
   ]
  },
  {
   "cell_type": "code",
   "execution_count": null,
   "metadata": {},
   "outputs": [],
   "source": [
    "pred=rf.predict(x_test)"
   ]
  },
  {
   "cell_type": "code",
   "execution_count": null,
   "metadata": {},
   "outputs": [],
   "source": [
    "pred"
   ]
  },
  {
   "cell_type": "code",
   "execution_count": null,
   "metadata": {},
   "outputs": [],
   "source": [
    "s=y_test.values\n",
    "count=0"
   ]
  },
  {
   "cell_type": "code",
   "execution_count": null,
   "metadata": {},
   "outputs": [],
   "source": [
    "for i in range(len(pred)):\n",
    "    if pred[i]==s[i]:\n",
    "        count=count+1"
   ]
  },
  {
   "cell_type": "code",
   "execution_count": null,
   "metadata": {},
   "outputs": [],
   "source": [
    "count"
   ]
  },
  {
   "cell_type": "code",
   "execution_count": null,
   "metadata": {},
   "outputs": [],
   "source": [
    "len(pred)"
   ]
  },
  {
   "cell_type": "code",
   "execution_count": null,
   "metadata": {},
   "outputs": [],
   "source": [
    "3867/4600"
   ]
  },
  {
   "cell_type": "code",
   "execution_count": null,
   "metadata": {},
   "outputs": [],
   "source": [
    "\"\"\"On essaie sur un autre set de test plus grand pour voir :\"\"\""
   ]
  },
  {
   "cell_type": "code",
   "execution_count": null,
   "metadata": {},
   "outputs": [],
   "source": [
    "data2=pd.read_csv('test.csv')\n",
    "data2.head()"
   ]
  },
  {
   "cell_type": "code",
   "execution_count": null,
   "metadata": {},
   "outputs": [],
   "source": [
    "a=data2.iloc[150,1:].values\n",
    "a=a.reshape(33,33).astype('uint8')\n",
    "plt.imshow(a)\n",
    "\n",
    "df_x2=data2.iloc[:,1:]\n",
    "df_y2=data2.iloc[:,0]\n",
    "\n",
    "x2_train, x2_test, y2_train, y2_test = train_test_split(df_x2, df_y2, test_size=0.5, random_state=4)"
   ]
  },
  {
   "cell_type": "code",
   "execution_count": null,
   "metadata": {},
   "outputs": [],
   "source": [
    "pred=rf.predict(x2_test)\n",
    "pred"
   ]
  },
  {
   "cell_type": "code",
   "execution_count": null,
   "metadata": {},
   "outputs": [],
   "source": [
    "s=y2_test.values\n",
    "count=0\n",
    "\n",
    "for i in range(len(pred)):\n",
    "    if pred[i]==s[i]:\n",
    "        count=count+1\n",
    "\n",
    "count/len(pred)"
   ]
  },
  {
   "cell_type": "code",
   "execution_count": null,
   "metadata": {},
   "outputs": [],
   "source": []
  },
  {
   "cell_type": "code",
   "execution_count": null,
   "metadata": {},
   "outputs": [],
   "source": []
  }
 ],
 "metadata": {
  "kernelspec": {
   "display_name": "Python 3",
   "language": "python",
   "name": "python3"
  },
  "language_info": {
   "codemirror_mode": {
    "name": "ipython",
    "version": 3
   },
   "file_extension": ".py",
   "mimetype": "text/x-python",
   "name": "python",
   "nbconvert_exporter": "python",
   "pygments_lexer": "ipython3",
   "version": "3.7.3"
  }
 },
 "nbformat": 4,
 "nbformat_minor": 2
}
